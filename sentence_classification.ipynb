{
  "cells": [
    {
      "cell_type": "markdown",
      "metadata": {
        "id": "tV-h5rvZ4KHw"
      },
      "source": [
        "# Sentence Classification\n",
        "Sentence classification is an NLP task which have several applications including document classification, spam filtering, and sentiment analysis. \n",
        "It is the task of giving a label to a sentence according to its meaning. \n",
        "\n",
        "Some classic and neural network methods for sentence classification have been implemented in the following.\n",
        "\n",
        "The dataset which is used is the *amazon-massive-dataset* which can be downloaded from [here](https://github.com/alexa/massive). The target dataset is in Persian."
      ]
    },
    {
      "cell_type": "markdown",
      "metadata": {
        "id": "A8gnIAch74Z9"
      },
      "source": [
        "At first the dataset has been downloaded and loaded into a DataFrame."
      ]
    },
    {
      "cell_type": "code",
      "execution_count": 2,
      "metadata": {
        "colab": {
          "base_uri": "https://localhost:8080/"
        },
        "id": "JXRiBVHULKj1",
        "outputId": "d4eb0140-1a4a-465b-9af2-071109ceddfd"
      },
      "outputs": [
        {
          "name": "stdout",
          "output_type": "stream",
          "text": [
            "  % Total    % Received % Xferd  Average Speed   Time    Time     Time  Current\n",
            "                                 Dload  Upload   Total   Spent    Left  Speed\n",
            "100 37.6M  100 37.6M    0     0  35.0M      0  0:00:01  0:00:01 --:--:-- 35.0M\n",
            "1.0/\n",
            "1.0/CITATION.md\n",
            "1.0/NOTICE.md\n",
            "1.0/data/\n",
            "1.0/data/mn-MN.jsonl\n",
            "1.0/data/af-ZA.jsonl\n",
            "1.0/data/el-GR.jsonl\n",
            "1.0/data/ta-IN.jsonl\n",
            "1.0/data/ar-SA.jsonl\n",
            "1.0/data/ur-PK.jsonl\n",
            "1.0/data/pl-PL.jsonl\n",
            "1.0/data/ko-KR.jsonl\n",
            "1.0/data/az-AZ.jsonl\n",
            "1.0/data/da-DK.jsonl\n",
            "1.0/data/kn-IN.jsonl\n",
            "1.0/data/tl-PH.jsonl\n",
            "1.0/data/is-IS.jsonl\n",
            "1.0/data/lv-LV.jsonl\n",
            "1.0/data/it-IT.jsonl\n",
            "1.0/data/es-ES.jsonl\n",
            "1.0/data/fr-FR.jsonl\n",
            "1.0/data/ml-IN.jsonl\n",
            "1.0/data/km-KH.jsonl\n",
            "1.0/data/fa-IR.jsonl\n",
            "1.0/data/sw-KE.jsonl\n",
            "1.0/data/en-US.jsonl\n",
            "1.0/data/tr-TR.jsonl\n",
            "1.0/data/bn-BD.jsonl\n",
            "1.0/data/he-IL.jsonl\n",
            "1.0/data/te-IN.jsonl\n",
            "1.0/data/pt-PT.jsonl\n",
            "1.0/data/ka-GE.jsonl\n",
            "1.0/data/ja-JP.jsonl\n",
            "1.0/data/id-ID.jsonl\n",
            "1.0/data/ru-RU.jsonl\n",
            "1.0/data/hy-AM.jsonl\n",
            "1.0/data/nb-NO.jsonl\n",
            "1.0/data/ms-MY.jsonl\n",
            "1.0/data/sq-AL.jsonl\n",
            "1.0/data/sv-SE.jsonl\n",
            "1.0/data/fi-FI.jsonl\n",
            "1.0/data/th-TH.jsonl\n",
            "1.0/data/de-DE.jsonl\n",
            "1.0/data/vi-VN.jsonl\n",
            "1.0/data/my-MM.jsonl\n",
            "1.0/data/jv-ID.jsonl\n",
            "1.0/data/sl-SL.jsonl\n",
            "1.0/data/hi-IN.jsonl\n",
            "1.0/data/nl-NL.jsonl\n",
            "1.0/data/zh-CN.jsonl\n",
            "1.0/data/hu-HU.jsonl\n",
            "1.0/data/ro-RO.jsonl\n",
            "1.0/data/zh-TW.jsonl\n",
            "1.0/data/cy-GB.jsonl\n",
            "1.0/data/am-ET.jsonl\n",
            "1.0/LICENSE\n",
            "/bin/bash: tree: command not found\n"
          ]
        }
      ],
      "source": [
        "!curl https://amazon-massive-nlu-dataset.s3.amazonaws.com/amazon-massive-dataset-1.0.tar.gz --output amazon-massive-dataset-1.0.tar.gz\n",
        "!tar -xzvf amazon-massive-dataset-1.0.tar.gz\n",
        "!tree 1.0"
      ]
    },
    {
      "cell_type": "code",
      "execution_count": 3,
      "metadata": {
        "id": "4a1q2ET63PRU"
      },
      "outputs": [],
      "source": [
        "import pandas as pd\n",
        "import json\n",
        "\n",
        "# Open the JSONL file and read each line as a separate JSON object\n",
        "with open('./1.0/data/fa-IR.jsonl', 'r') as f:\n",
        "    data = [json.loads(line) for line in f]\n",
        "\n",
        "# Convert the list of JSON objects into a pandas DataFrame\n",
        "df = pd.DataFrame(data)"
      ]
    },
    {
      "cell_type": "markdown",
      "metadata": {
        "id": "bFxhILR9qRBu"
      },
      "source": [
        "### Analyzing data"
      ]
    },
    {
      "cell_type": "code",
      "execution_count": 4,
      "metadata": {
        "colab": {
          "base_uri": "https://localhost:8080/"
        },
        "id": "Ad5SRO_VqTn3",
        "outputId": "01a8127f-b941-4080-9976-2d9c75d8814c"
      },
      "outputs": [
        {
          "name": "stdout",
          "output_type": "stream",
          "text": [
            "number of train data in dataset: 11514\n",
            "number of test data in dataset: 2974\n"
          ]
        }
      ],
      "source": [
        "train_count = len(df[df['partition'] == 'train'])\n",
        "print(\"number of train data in dataset:\", train_count)\n",
        "\n",
        "test_count = len(df[df['partition'] == 'test'])\n",
        "print(\"number of test data in dataset:\", test_count)"
      ]
    },
    {
      "cell_type": "code",
      "execution_count": 5,
      "metadata": {
        "colab": {
          "base_uri": "https://localhost:8080/"
        },
        "id": "JdNa6oE7uPrP",
        "outputId": "29e2aebe-74e1-4710-e14e-bb05d6202ee4"
      },
      "outputs": [
        {
          "name": "stdout",
          "output_type": "stream",
          "text": [
            "number of different scenarios in dataframe: 18\n"
          ]
        }
      ],
      "source": [
        "num_scenarios = df['scenario'].nunique()\n",
        "print('number of different scenarios in dataframe:', num_scenarios)"
      ]
    },
    {
      "cell_type": "code",
      "execution_count": 6,
      "metadata": {
        "colab": {
          "base_uri": "https://localhost:8080/"
        },
        "id": "jiQTweiTrD-q",
        "outputId": "6162c4ba-84b4-4852-e8da-521749d4a751"
      },
      "outputs": [
        {
          "name": "stdout",
          "output_type": "stream",
          "text": [
            "how many records each scenario has:\n",
            "calendar          2370\n",
            "play              2024\n",
            "qa                1685\n",
            "email             1381\n",
            "iot               1107\n",
            "general            963\n",
            "weather            855\n",
            "transport          805\n",
            "lists              793\n",
            "news               709\n",
            "recommendation     596\n",
            "datetime           578\n",
            "social             565\n",
            "alarm              550\n",
            "music              469\n",
            "audio              387\n",
            "takeaway           358\n",
            "cooking            326\n",
            "Name: scenario, dtype: int64\n"
          ]
        }
      ],
      "source": [
        "counts = df['scenario'].value_counts()\n",
        "print(\"how many records each scenario has:\")\n",
        "print(counts)"
      ]
    },
    {
      "cell_type": "markdown",
      "metadata": {
        "id": "EcHrKn568yu1"
      },
      "source": [
        "The dataset contains both train and test data which is defined by the 'partition' attribute. Train and test data and their labels have became seperated."
      ]
    },
    {
      "cell_type": "code",
      "execution_count": 7,
      "metadata": {
        "id": "MESTR2FHBshX"
      },
      "outputs": [],
      "source": [
        "df_copy = df.copy()\n",
        "\n",
        "# Get rows where 'partition' is 'train'\n",
        "train_df = df_copy[df_copy['partition'] == 'train']\n",
        "train_data = train_df['utt']\n",
        "train_labels = train_df['scenario']\n",
        "\n",
        "# Get rows where 'partition' is 'train'\n",
        "test_df =  df_copy[df_copy['partition'] == 'test']\n",
        "test_data = test_df['utt']\n",
        "test_labels = test_df['scenario']"
      ]
    },
    {
      "cell_type": "code",
      "execution_count": 9,
      "metadata": {
        "colab": {
          "base_uri": "https://localhost:8080/"
        },
        "id": "O9rzZ5xrspjn",
        "outputId": "45c23bb9-55c3-48fe-d4a1-64795603807c"
      },
      "outputs": [
        {
          "name": "stdout",
          "output_type": "stream",
          "text": [
            "number of records for each scenario in train data:\n",
            "calendar          1688\n",
            "play              1377\n",
            "qa                1183\n",
            "email              953\n",
            "iot                769\n",
            "general            652\n",
            "weather            573\n",
            "transport          571\n",
            "lists              539\n",
            "news               503\n",
            "recommendation     433\n",
            "datetime           402\n",
            "social             391\n",
            "alarm              390\n",
            "music              332\n",
            "audio              290\n",
            "takeaway           257\n",
            "cooking            211\n",
            "Name: scenario, dtype: int64 \n",
            "\n",
            "number of records of each scenario in test data:\n",
            "calendar          402\n",
            "play              387\n",
            "qa                288\n",
            "email             271\n",
            "iot               220\n",
            "general           189\n",
            "weather           156\n",
            "lists             142\n",
            "transport         124\n",
            "news              124\n",
            "social            106\n",
            "datetime          103\n",
            "alarm              96\n",
            "recommendation     94\n",
            "music              81\n",
            "cooking            72\n",
            "audio              62\n",
            "takeaway           57\n",
            "Name: scenario, dtype: int64\n"
          ]
        }
      ],
      "source": [
        "train_value_counts = train_df['scenario'].value_counts()\n",
        "test_value_counts = test_df['scenario'].value_counts()\n",
        "\n",
        "print(\"number of records for each scenario in train data:\")\n",
        "print(train_value_counts, '\\n')\n",
        "print(\"number of records of each scenario in test data:\")\n",
        "print(test_value_counts)"
      ]
    },
    {
      "cell_type": "markdown",
      "metadata": {
        "id": "KevBGsGH9nQH"
      },
      "source": [
        "'sklearn' is the library which is going to be used. It provides so many classification methods\n",
        "\n",
        "For doing the classification task, each sentence must be converted to a numerical representation. There are several ways to do that. Here, the TF-IDF method is being used for six first methods. "
      ]
    },
    {
      "cell_type": "code",
      "execution_count": 10,
      "metadata": {
        "id": "ls8DCpsI_L_i"
      },
      "outputs": [],
      "source": [
        "import pandas as pd\n",
        "from sklearn.model_selection import train_test_split\n",
        "from sklearn.feature_extraction.text import TfidfVectorizer\n",
        "from sklearn.metrics import accuracy_score\n",
        "\n",
        "\n",
        "# Vectorize the text data using TfidfVectorizer\n",
        "vectorizer = TfidfVectorizer()\n",
        "train_vectors = vectorizer.fit_transform(train_data)\n",
        "test_vectors = vectorizer.transform(test_data)"
      ]
    },
    {
      "cell_type": "markdown",
      "metadata": {
        "id": "z06R0eGhBs0n"
      },
      "source": [
        "In the following, six classification methods are implemented using the 'sklearn' library and the accuracy of each one is calculated.\n",
        "\n",
        "For each method, the corresponding class has been imported and instantiated. The fit method learns the model with train vectors and labels."
      ]
    },
    {
      "cell_type": "code",
      "execution_count": 11,
      "metadata": {
        "id": "G87MCRiB9x6c"
      },
      "outputs": [],
      "source": [
        "# To compare the accuracy of different models\n",
        "models_accuracy = {}  "
      ]
    },
    {
      "cell_type": "markdown",
      "metadata": {
        "id": "wnHtPDf7-DGZ"
      },
      "source": [
        "###1. Naive Bayes\n"
      ]
    },
    {
      "cell_type": "code",
      "execution_count": 12,
      "metadata": {
        "colab": {
          "base_uri": "https://localhost:8080/"
        },
        "id": "g0_Rn4Ss-CCf",
        "outputId": "5ef01bda-23c1-4f12-8803-d86b385bb47e"
      },
      "outputs": [
        {
          "name": "stdout",
          "output_type": "stream",
          "text": [
            "Naive Bayes Accuracy: 0.7585743106926698\n"
          ]
        }
      ],
      "source": [
        "from sklearn.naive_bayes import MultinomialNB\n",
        "# Train a Multinomial Naive Bayes classifier on the training data\n",
        "naive_bayes_classifier = MultinomialNB()\n",
        "naive_bayes_classifier.fit(train_vectors, train_labels)\n",
        "\n",
        "# Predict labels for the test data\n",
        "naive_bayes_predictions = naive_bayes_classifier.predict(test_vectors)\n",
        "\n",
        "# Calculate accuracy score\n",
        "naive_bayes_accuracy = accuracy_score(test_labels, naive_bayes_predictions)\n",
        "print(\"Naive Bayes Accuracy:\", naive_bayes_accuracy)\n",
        "models_accuracy['naive_bayes'] = naive_bayes_accuracy"
      ]
    },
    {
      "cell_type": "markdown",
      "metadata": {
        "id": "jfl1h3iJBGTl"
      },
      "source": [
        "The accuracy of this method is 75% which is good but can be improved.\n",
        "\n",
        "Check if the model can predict the label of a new sentence:"
      ]
    },
    {
      "cell_type": "code",
      "execution_count": 13,
      "metadata": {
        "colab": {
          "base_uri": "https://localhost:8080/"
        },
        "id": "5tCIVSbSCztx",
        "outputId": "1ae60f00-a005-4c03-8e1a-d031022a76b6"
      },
      "outputs": [
        {
          "name": "stdout",
          "output_type": "stream",
          "text": [
            "The predicted label for the new sentence is: weather\n"
          ]
        }
      ],
      "source": [
        "new_sentence = \"دمای هوا در تهران\"\n",
        "new_vector = vectorizer.transform([new_sentence])\n",
        "\n",
        "# Predict the label for the new sentence\n",
        "predicted_label = naive_bayes_classifier.predict(new_vector)[0]\n",
        "\n",
        "print(\"The predicted label for the new sentence is:\", predicted_label)"
      ]
    },
    {
      "cell_type": "markdown",
      "metadata": {
        "id": "v5u3fIKeBQ1O"
      },
      "source": [
        "###2. SVM\n"
      ]
    },
    {
      "cell_type": "code",
      "execution_count": 14,
      "metadata": {
        "colab": {
          "base_uri": "https://localhost:8080/"
        },
        "id": "YvJ7Edb5EeHm",
        "outputId": "317d5e8a-9e17-44a9-a4cb-7e50042a6f51"
      },
      "outputs": [
        {
          "name": "stdout",
          "output_type": "stream",
          "text": [
            "SVM Accuracy: 0.8887020847343645\n"
          ]
        }
      ],
      "source": [
        "from sklearn.svm import LinearSVC\n",
        "# Train a Linear Support Vector Machine (SVM) classifier on the training data\n",
        "svm_classifier = LinearSVC()\n",
        "svm_classifier.fit(train_vectors, train_labels)\n",
        "\n",
        "# Predict labels for the test data\n",
        "svm_predictions = svm_classifier.predict(test_vectors)\n",
        "\n",
        "# Calculate accuracy score\n",
        "svm_accuracy = accuracy_score(test_labels, svm_predictions)\n",
        "print(\"SVM Accuracy:\", svm_accuracy)\n",
        "models_accuracy['svm'] = svm_accuracy"
      ]
    },
    {
      "cell_type": "code",
      "execution_count": 15,
      "metadata": {
        "colab": {
          "base_uri": "https://localhost:8080/"
        },
        "id": "zQxFHEIcuhYC",
        "outputId": "e6e38022-7bd4-4ba7-9bb8-eb6f6f5adfa3"
      },
      "outputs": [
        {
          "name": "stdout",
          "output_type": "stream",
          "text": [
            "The predicted label for the new sentence is: weather\n"
          ]
        }
      ],
      "source": [
        "new_sentence = \"دمای هوا در تهران\"\n",
        "new_vector = vectorizer.transform([new_sentence])\n",
        "\n",
        "# Predict the label for the new sentence\n",
        "predicted_label = svm_classifier.predict(new_vector)[0]\n",
        "\n",
        "print(\"The predicted label for the new sentence is:\", predicted_label)"
      ]
    },
    {
      "cell_type": "markdown",
      "metadata": {
        "id": "y4aNzREoCVPN"
      },
      "source": [
        "###3. Decision Tree"
      ]
    },
    {
      "cell_type": "code",
      "execution_count": 16,
      "metadata": {
        "colab": {
          "base_uri": "https://localhost:8080/"
        },
        "id": "Q5oHESBDDyFR",
        "outputId": "571aead9-f6ce-467c-b717-1f17b67e0a4e"
      },
      "outputs": [
        {
          "name": "stdout",
          "output_type": "stream",
          "text": [
            "Decision Tree Accuracy: 0.7723604572965703\n"
          ]
        }
      ],
      "source": [
        "from sklearn.tree import DecisionTreeClassifier\n",
        "# Train a Decision Tree classifier on the training data\n",
        "dt_classifier = DecisionTreeClassifier()\n",
        "dt_classifier.fit(train_vectors, train_labels)\n",
        "\n",
        "# Predict labels for the test data\n",
        "dt_predictions = dt_classifier.predict(test_vectors)\n",
        "\n",
        "# Calculate accuracy score\n",
        "dt_accuracy = accuracy_score(test_labels, dt_predictions)\n",
        "print(\"Decision Tree Accuracy:\", dt_accuracy)\n",
        "models_accuracy['decision_tree'] = dt_accuracy"
      ]
    },
    {
      "cell_type": "markdown",
      "metadata": {
        "id": "eTcJLzt9zcGp"
      },
      "source": [
        "###4. Stochastic Gradient Descent"
      ]
    },
    {
      "cell_type": "code",
      "execution_count": 17,
      "metadata": {
        "colab": {
          "base_uri": "https://localhost:8080/"
        },
        "id": "SyJQjrvdzdXA",
        "outputId": "95cad57c-7130-4431-a60a-8606b75424cc"
      },
      "outputs": [
        {
          "name": "stdout",
          "output_type": "stream",
          "text": [
            "Stochastic Gradient Descent Accuracy: 0.8883658372562205\n"
          ]
        }
      ],
      "source": [
        "from sklearn.linear_model import SGDClassifier\n",
        "# Train a Stochastic Gradient Descent classifier on the training data\n",
        "sgdc_classifier = SGDClassifier()\n",
        "sgdc_classifier.fit(train_vectors, train_labels)\n",
        "\n",
        "# Predict labels for the test data\n",
        "sgdc_predictions = sgdc_classifier.predict(test_vectors)\n",
        "\n",
        "# Calculate accuracy score\n",
        "sgdc_accuracy = accuracy_score(test_labels, sgdc_predictions)\n",
        "print(\"Stochastic Gradient Descent Accuracy:\", sgdc_accuracy)\n",
        "models_accuracy['stochastic_gradient_descent'] = sgdc_accuracy"
      ]
    },
    {
      "cell_type": "markdown",
      "metadata": {
        "id": "ulhr0JSM0ar1"
      },
      "source": [
        "###5. Nearest Neighbors\n",
        "\n"
      ]
    },
    {
      "cell_type": "code",
      "execution_count": 18,
      "metadata": {
        "colab": {
          "base_uri": "https://localhost:8080/"
        },
        "id": "_cQP_Rbo0eMv",
        "outputId": "6b5ee77a-d063-478d-ad91-785d8fb6b65d"
      },
      "outputs": [
        {
          "name": "stdout",
          "output_type": "stream",
          "text": [
            "Nearest Neighbors Accuracy: 0.8887020847343645\n"
          ]
        }
      ],
      "source": [
        "from sklearn.neighbors import NearestNeighbors\n",
        "# Train a Nearest Neighbors classifier on the training data\n",
        "nn_classifier = SGDClassifier()\n",
        "nn_classifier.fit(train_vectors, train_labels)\n",
        "\n",
        "# Predict labels for the test data\n",
        "nn_predictions = nn_classifier.predict(test_vectors)\n",
        "\n",
        "# Calculate accuracy score\n",
        "nn_accuracy = accuracy_score(test_labels, nn_predictions)\n",
        "print(\"Nearest Neighbors Accuracy:\", nn_accuracy)\n",
        "models_accuracy['nearest_neighbors'] = nn_accuracy"
      ]
    },
    {
      "cell_type": "markdown",
      "metadata": {
        "id": "ugIj82D82XSm"
      },
      "source": [
        "###6. Multi-layer Perceptron\n",
        "using the MLPClassifier of the 'sklearn' library"
      ]
    },
    {
      "cell_type": "code",
      "execution_count": 19,
      "metadata": {
        "colab": {
          "base_uri": "https://localhost:8080/"
        },
        "id": "9dbdFD4b2W9J",
        "outputId": "8f78f8c5-0933-4438-e722-908814a780a0"
      },
      "outputs": [
        {
          "name": "stdout",
          "output_type": "stream",
          "text": [
            "Multi-layer Perceptron Accuracy: 0.8584398117014123\n"
          ]
        }
      ],
      "source": [
        "from sklearn.neural_network import MLPClassifier\n",
        "# Train an MLP classifier on the training data\n",
        "mlp_classifier = MLPClassifier(hidden_layer_sizes=(100, 50))\n",
        "mlp_classifier.fit(train_vectors, train_labels)\n",
        "\n",
        "# Predict labels for the test data\n",
        "mlp_predictions = mlp_classifier.predict(test_vectors)\n",
        "\n",
        "# Calculate accuracy score\n",
        "mlp_accuracy = accuracy_score(test_labels, mlp_predictions)\n",
        "print(\"Multi-layer Perceptron Accuracy:\", mlp_accuracy)\n",
        "models_accuracy['multi_layer_perceptron'] = mlp_accuracy"
      ]
    },
    {
      "cell_type": "markdown",
      "metadata": {
        "id": "v91Ck7m1HUsj"
      },
      "source": [
        "Increasing the size of hidden layer may increase the accuracy and computation time, but too much increasing may lead to overfitting and decreasing the accuracy.\n"
      ]
    },
    {
      "cell_type": "markdown",
      "metadata": {
        "id": "iugVOmSP18Jd"
      },
      "source": [
        "###7. A Deep Neural Network\n",
        "\n",
        "To easy run the cell and see the result, all importing and data loading has been implemented in one place."
      ]
    },
    {
      "cell_type": "code",
      "execution_count": 20,
      "metadata": {
        "colab": {
          "base_uri": "https://localhost:8080/"
        },
        "id": "_1-tkcLbw-D_",
        "outputId": "14333c16-a725-4a14-8805-91428832709b"
      },
      "outputs": [
        {
          "name": "stdout",
          "output_type": "stream",
          "text": [
            "Epoch 1/10\n",
            "180/180 [==============================] - 6s 30ms/step - loss: 2.5235 - accuracy: 0.2350 - val_loss: 2.0140 - val_accuracy: 0.3988\n",
            "Epoch 2/10\n",
            "180/180 [==============================] - 4s 22ms/step - loss: 1.6528 - accuracy: 0.5218 - val_loss: 1.1247 - val_accuracy: 0.6927\n",
            "Epoch 3/10\n",
            "180/180 [==============================] - 4s 22ms/step - loss: 0.8717 - accuracy: 0.7631 - val_loss: 0.6365 - val_accuracy: 0.8299\n",
            "Epoch 4/10\n",
            "180/180 [==============================] - 5s 27ms/step - loss: 0.4667 - accuracy: 0.8788 - val_loss: 0.5141 - val_accuracy: 0.8618\n",
            "Epoch 5/10\n",
            "180/180 [==============================] - 4s 22ms/step - loss: 0.2931 - accuracy: 0.9268 - val_loss: 0.4987 - val_accuracy: 0.8658\n",
            "Epoch 6/10\n",
            "180/180 [==============================] - 4s 22ms/step - loss: 0.1993 - accuracy: 0.9510 - val_loss: 0.4906 - val_accuracy: 0.8702\n",
            "Epoch 7/10\n",
            "180/180 [==============================] - 5s 28ms/step - loss: 0.1453 - accuracy: 0.9663 - val_loss: 0.5020 - val_accuracy: 0.8679\n",
            "Epoch 8/10\n",
            "180/180 [==============================] - 4s 21ms/step - loss: 0.1056 - accuracy: 0.9754 - val_loss: 0.5228 - val_accuracy: 0.8682\n",
            "Epoch 9/10\n",
            "180/180 [==============================] - 4s 21ms/step - loss: 0.0774 - accuracy: 0.9832 - val_loss: 0.5341 - val_accuracy: 0.8662\n",
            "Epoch 10/10\n",
            "180/180 [==============================] - 5s 28ms/step - loss: 0.0608 - accuracy: 0.9865 - val_loss: 0.5524 - val_accuracy: 0.8668\n",
            "93/93 [==============================] - 0s 4ms/step - loss: 0.5524 - accuracy: 0.8668\n",
            " Deep Neural Network accuracy: 0.8668460249900818\n"
          ]
        }
      ],
      "source": [
        "import pandas as pd\n",
        "import numpy as np\n",
        "import json\n",
        "import tensorflow as tf\n",
        "from tensorflow.keras.models import Sequential\n",
        "from tensorflow.keras.layers import Embedding, Dense, Dropout, Flatten\n",
        "from tensorflow.keras.preprocessing.text import Tokenizer\n",
        "from tensorflow.keras.preprocessing.sequence import pad_sequences\n",
        "\n",
        "# Open the JSONL file and read each line as a separate JSON object\n",
        "with open('./1.0/data/fa-IR.jsonl', 'r') as f:\n",
        "    data = [json.loads(line) for line in f]\n",
        "\n",
        "# Convert the list of JSON objects into a pandas DataFrame\n",
        "df = pd.DataFrame(data)\n",
        "\n",
        "# Split into train and test data\n",
        "train_data = df[df['partition'] == 'train']\n",
        "test_data = df[df['partition'] == 'test']\n",
        "\n",
        "# Preprocess the text data\n",
        "tokenizer = Tokenizer(num_words=10000)\n",
        "tokenizer.fit_on_texts(train_data['utt'])\n",
        "X_train = tokenizer.texts_to_sequences(train_data['utt'])\n",
        "X_test = tokenizer.texts_to_sequences(test_data['utt'])\n",
        "X_train = pad_sequences(X_train, maxlen=100)\n",
        "X_test = pad_sequences(X_test, maxlen=100)\n",
        "\n",
        "# Convert string labels to numeric labels\n",
        "label_map = {label: i for i, label in enumerate(train_data['scenario'].unique())}\n",
        "y_train = np.array([label_map[label] for label in train_data['scenario']])\n",
        "y_test = np.array([label_map[label] for label in test_data['scenario']])\n",
        "\n",
        "# Define the model\n",
        "model = Sequential()\n",
        "model.add(Embedding(input_dim=10000, output_dim=50, input_length=100))\n",
        "model.add(Flatten())\n",
        "model.add(Dense(128, activation='relu'))\n",
        "model.add(Dropout(0.5))\n",
        "model.add(Dense(len(label_map), activation='softmax'))\n",
        "\n",
        "# Compile the model\n",
        "model.compile(loss='sparse_categorical_crossentropy', optimizer='adam', metrics=['accuracy'])\n",
        "\n",
        "# Train the model\n",
        "model.fit(X_train, y_train, validation_data=(X_test, y_test), epochs=10, batch_size=64)\n",
        "\n",
        "# Evaluate the model\n",
        "loss, dnn_accuracy = model.evaluate(X_test, y_test)\n",
        "print(' Deep Neural Network accuracy:', dnn_accuracy)\n",
        "models_accuracy['deep_nn'] = dnn_accuracy"
      ]
    },
    {
      "cell_type": "code",
      "execution_count": 21,
      "metadata": {
        "colab": {
          "base_uri": "https://localhost:8080/"
        },
        "id": "tQ_nMhaX8ht2",
        "outputId": "f11e4f70-20db-4551-d6c6-e69f10040a0d"
      },
      "outputs": [
        {
          "name": "stdout",
          "output_type": "stream",
          "text": [
            "1/1 [==============================] - 0s 102ms/step\n",
            "weather\n"
          ]
        }
      ],
      "source": [
        "# Preprocess the new sentence\n",
        "new_sentence = \"دمای هوا در تهران\"\n",
        "new_sequence = tokenizer.texts_to_sequences([new_sentence])\n",
        "new_padded_sequence = pad_sequences(new_sequence, maxlen=100)\n",
        "\n",
        "# Use the model to make a prediction on the new sentence\n",
        "predicted_probabilities = model.predict(new_padded_sequence)\n",
        "predicted_label_index = np.argmax(predicted_probabilities)\n",
        "predicted_label = list(label_map.keys())[list(label_map.values()).index(predicted_label_index)]\n",
        "print(predicted_label)"
      ]
    },
    {
      "cell_type": "markdown",
      "metadata": {
        "id": "QL9yYLEg2E6T"
      },
      "source": [
        "### 8. CNN\n",
        "Convolutional Neural Network (CNN) is a type of neural network wich is applicapable in NLP tasks. \n",
        "\n",
        "Coming next, a CNN model with an embedding layer, a 1D convolutional layer, and a dense output layer has been built using keras library. It is an open-source library that provides a Python interface for artificial neural networks. It has many methods that facilitate the process of building and training the CNN."
      ]
    },
    {
      "cell_type": "code",
      "execution_count": 23,
      "metadata": {
        "colab": {
          "base_uri": "https://localhost:8080/"
        },
        "id": "N0cjNS8qx-Yc",
        "outputId": "3666b876-9cc4-4f37-903b-6838aa15d27c"
      },
      "outputs": [
        {
          "name": "stdout",
          "output_type": "stream",
          "text": [
            "Epoch 1/10\n",
            "180/180 [==============================] - 9s 41ms/step - loss: 2.4046 - accuracy: 0.2559 - val_loss: 1.7937 - val_accuracy: 0.4721\n",
            "Epoch 2/10\n",
            "180/180 [==============================] - 6s 34ms/step - loss: 1.3964 - accuracy: 0.5724 - val_loss: 0.9646 - val_accuracy: 0.7139\n",
            "Epoch 3/10\n",
            "180/180 [==============================] - 7s 40ms/step - loss: 0.7807 - accuracy: 0.7670 - val_loss: 0.6847 - val_accuracy: 0.8127\n",
            "Epoch 4/10\n",
            "180/180 [==============================] - 6s 34ms/step - loss: 0.4823 - accuracy: 0.8695 - val_loss: 0.6247 - val_accuracy: 0.8329\n",
            "Epoch 5/10\n",
            "180/180 [==============================] - 8s 46ms/step - loss: 0.3305 - accuracy: 0.9100 - val_loss: 0.6146 - val_accuracy: 0.8497\n",
            "Epoch 6/10\n",
            "180/180 [==============================] - 6s 32ms/step - loss: 0.2432 - accuracy: 0.9355 - val_loss: 0.6248 - val_accuracy: 0.8517\n",
            "Epoch 7/10\n",
            "180/180 [==============================] - 8s 42ms/step - loss: 0.1886 - accuracy: 0.9494 - val_loss: 0.6412 - val_accuracy: 0.8561\n",
            "Epoch 8/10\n",
            "180/180 [==============================] - 6s 34ms/step - loss: 0.1471 - accuracy: 0.9626 - val_loss: 0.6618 - val_accuracy: 0.8605\n",
            "Epoch 9/10\n",
            "180/180 [==============================] - 9s 49ms/step - loss: 0.1242 - accuracy: 0.9668 - val_loss: 0.7013 - val_accuracy: 0.8571\n",
            "Epoch 10/10\n",
            "180/180 [==============================] - 11s 63ms/step - loss: 0.1023 - accuracy: 0.9734 - val_loss: 0.7438 - val_accuracy: 0.8537\n",
            "93/93 [==============================] - 1s 7ms/step - loss: 0.7438 - accuracy: 0.8537\n",
            "CNN Accuracy: 0.8537323474884033\n",
            "1/1 [==============================] - 0s 151ms/step\n",
            "weather\n"
          ]
        }
      ],
      "source": [
        "import pandas as pd\n",
        "import numpy as np\n",
        "import tensorflow as tf\n",
        "import json\n",
        "from tensorflow.keras.models import Sequential\n",
        "from tensorflow.keras.layers import Embedding, Conv1D, MaxPooling1D, Flatten, Dense, Dropout\n",
        "from tensorflow.keras.preprocessing.text import Tokenizer\n",
        "from tensorflow.keras.preprocessing.sequence import pad_sequences\n",
        "from sklearn.preprocessing import LabelEncoder\n",
        "\n",
        "\n",
        "# Open the JSONL file and read each line as a separate JSON object\n",
        "with open('./1.0/data/fa-IR.jsonl', 'r') as f:\n",
        "    data = [json.loads(line) for line in f]\n",
        "\n",
        "# Convert the list of JSON objects into a pandas DataFrame\n",
        "df = pd.DataFrame(data)\n",
        "\n",
        "# Split into train and test data\n",
        "train_data = df[df['partition'] == 'train']\n",
        "test_data = df[df['partition'] == 'test']\n",
        "\n",
        "# Preprocess the text data\n",
        "tokenizer = Tokenizer(num_words=10000)\n",
        "tokenizer.fit_on_texts(train_data['utt'])\n",
        "X_train = tokenizer.texts_to_sequences(train_data['utt'])\n",
        "X_test = tokenizer.texts_to_sequences(test_data['utt'])\n",
        "X_train = pad_sequences(X_train, maxlen=100)\n",
        "X_test = pad_sequences(X_test, maxlen=100)\n",
        "\n",
        "# Convert string labels to numeric labels in another way\n",
        "encoder = LabelEncoder()\n",
        "y_train = encoder.fit_transform(y_train)\n",
        "y_test= encoder.fit_transform(y_test)\n",
        "\n",
        "# Define the model\n",
        "model = Sequential()\n",
        "model.add(Embedding(input_dim=10000, output_dim=50, input_length=100))\n",
        "model.add(Conv1D(filters=64, kernel_size=3, activation='relu'))\n",
        "model.add(MaxPooling1D(pool_size=2))\n",
        "model.add(Flatten())\n",
        "model.add(Dense(128, activation='relu'))\n",
        "model.add(Dropout(0.5))\n",
        "model.add(Dense(len(label_map), activation='softmax'))\n",
        "\n",
        "# Compile the model\n",
        "model.compile(loss='sparse_categorical_crossentropy', optimizer='adam', metrics=['accuracy'])\n",
        "\n",
        "# Train the model\n",
        "model.fit(X_train, y_train, validation_data=(X_test, y_test), epochs=10, batch_size=64)\n",
        "\n",
        "# Evaluate the model\n",
        "loss, cnn_accuracy = model.evaluate(X_test, y_test)\n",
        "print('CNN Accuracy:', cnn_accuracy)\n",
        "models_accuracy['cnn'] = cnn_accuracy\n",
        "\n",
        "\n",
        "# Preprocess the new sentence\n",
        "new_sentence = \"دمای هوا در تهران\"\n",
        "new_sequence = tokenizer.texts_to_sequences([new_sentence])\n",
        "new_padded_sequence = pad_sequences(new_sequence, maxlen=100)\n",
        "\n",
        "# Use the model to make a prediction on the new sentence\n",
        "predicted_probabilities = model.predict(new_padded_sequence)\n",
        "predicted_label_index = np.argmax(predicted_probabilities)\n",
        "predicted_label = list(label_map.keys())[list(label_map.values()).index(predicted_label_index)]\n",
        "print(predicted_label)"
      ]
    },
    {
      "cell_type": "markdown",
      "metadata": {
        "id": "oFpa_f4S3q7f"
      },
      "source": [
        "###9. LSTM\n",
        "\n",
        "Long short-term memory is another artificial neural network used in the fields of artificial intelligence and deep learning especially in NLP tasks."
      ]
    },
    {
      "cell_type": "code",
      "execution_count": 24,
      "metadata": {
        "colab": {
          "base_uri": "https://localhost:8080/"
        },
        "id": "o8PTqsCd3s9N",
        "outputId": "2449fb69-e66d-4288-f048-cd73a3db712f"
      },
      "outputs": [
        {
          "name": "stdout",
          "output_type": "stream",
          "text": [
            "Epoch 1/10\n",
            "180/180 [==============================] - 24s 113ms/step - loss: 2.3175 - accuracy: 0.2876 - val_loss: 1.5063 - val_accuracy: 0.4933\n",
            "Epoch 2/10\n",
            "180/180 [==============================] - 20s 110ms/step - loss: 1.1534 - accuracy: 0.6459 - val_loss: 0.8265 - val_accuracy: 0.7747\n",
            "Epoch 3/10\n",
            "180/180 [==============================] - 18s 103ms/step - loss: 0.6302 - accuracy: 0.8121 - val_loss: 0.6703 - val_accuracy: 0.8124\n",
            "Epoch 4/10\n",
            "180/180 [==============================] - 21s 115ms/step - loss: 0.4104 - accuracy: 0.8844 - val_loss: 0.6436 - val_accuracy: 0.8383\n",
            "Epoch 5/10\n",
            "180/180 [==============================] - 19s 105ms/step - loss: 0.2960 - accuracy: 0.9210 - val_loss: 0.6999 - val_accuracy: 0.8339\n",
            "Epoch 6/10\n",
            "180/180 [==============================] - 20s 109ms/step - loss: 0.2237 - accuracy: 0.9401 - val_loss: 0.7004 - val_accuracy: 0.8376\n",
            "Epoch 7/10\n",
            "180/180 [==============================] - 19s 103ms/step - loss: 0.1737 - accuracy: 0.9540 - val_loss: 0.7338 - val_accuracy: 0.8433\n",
            "Epoch 8/10\n",
            "180/180 [==============================] - 21s 115ms/step - loss: 0.1466 - accuracy: 0.9599 - val_loss: 0.7791 - val_accuracy: 0.8410\n",
            "Epoch 9/10\n",
            "180/180 [==============================] - 20s 114ms/step - loss: 0.1220 - accuracy: 0.9674 - val_loss: 0.7864 - val_accuracy: 0.8416\n",
            "Epoch 10/10\n",
            "180/180 [==============================] - 25s 139ms/step - loss: 0.1043 - accuracy: 0.9726 - val_loss: 0.8119 - val_accuracy: 0.8440\n",
            "93/93 [==============================] - 2s 19ms/step - loss: 0.8119 - accuracy: 0.8440\n",
            "LSTM Accuracy: 0.843981146812439\n",
            "1/1 [==============================] - 1s 756ms/step\n",
            "Predicted label for the new sentence: weather\n"
          ]
        }
      ],
      "source": [
        "import pandas as pd\n",
        "import numpy as np\n",
        "import tensorflow as tf\n",
        "import json\n",
        "from tensorflow.keras.models import Sequential\n",
        "from tensorflow.keras.layers import Embedding, LSTM, Dense, Dropout\n",
        "from tensorflow.keras.preprocessing.text import Tokenizer\n",
        "from tensorflow.keras.preprocessing.sequence import pad_sequences\n",
        "\n",
        "\n",
        "# Open the JSONL file and read each line as a separate JSON object\n",
        "with open('./1.0/data/fa-IR.jsonl', 'r') as f:\n",
        "    data = [json.loads(line) for line in f]\n",
        "\n",
        "# Split into train and test data\n",
        "train_data = df[df['partition'] == 'train']\n",
        "test_data = df[df['partition'] == 'test']\n",
        "\n",
        "# Preprocess the text data\n",
        "tokenizer = Tokenizer(num_words=10000)\n",
        "tokenizer.fit_on_texts(train_data['utt'])\n",
        "X_train = tokenizer.texts_to_sequences(train_data['utt'])\n",
        "X_test = tokenizer.texts_to_sequences(test_data['utt'])\n",
        "X_train = pad_sequences(X_train, maxlen=100)\n",
        "X_test = pad_sequences(X_test, maxlen=100)\n",
        "\n",
        "# Convert string labels to numeric labels\n",
        "label_map = {label: i for i, label in enumerate(train_data['scenario'].unique())}\n",
        "y_train = np.array([label_map[label] for label in train_data['scenario']])\n",
        "y_test = np.array([label_map[label] for label in test_data['scenario']])\n",
        "\n",
        "# Define the model\n",
        "model = Sequential()\n",
        "model.add(Embedding(input_dim=10000, output_dim=50, input_length=100))\n",
        "model.add(LSTM(64))\n",
        "model.add(Dense(128, activation='relu'))\n",
        "model.add(Dropout(0.5))\n",
        "model.add(Dense(len(label_map), activation='softmax'))\n",
        "\n",
        "# Compile the model\n",
        "model.compile(loss='sparse_categorical_crossentropy', optimizer='adam', metrics=['accuracy'])\n",
        "\n",
        "# Train the model\n",
        "model.fit(X_train, y_train, validation_data=(X_test, y_test), epochs=10, batch_size=64)\n",
        "\n",
        "# Evaluate the model\n",
        "loss, lstm_accuracy = model.evaluate(X_test, y_test)\n",
        "print('LSTM Accuracy:', lstm_accuracy)\n",
        "models_accuracy['lstm'] = lstm_accuracy\n",
        "\n",
        "\n",
        "# Preprocess the new sentence\n",
        "new_sentence = \"دمای هوا در تهران\"\n",
        "new_sequence = tokenizer.texts_to_sequences([new_sentence])\n",
        "new_padded_sequence = pad_sequences(new_sequence, maxlen=100)\n",
        "\n",
        "# Use the model to make a prediction on the new sentence\n",
        "predicted_probabilities = model.predict(new_padded_sequence)\n",
        "predicted_label_index = np.argmax(predicted_probabilities)\n",
        "predicted_label = list(label_map.keys())[list(label_map.values()).index(predicted_label_index)]\n",
        "print(\"Predicted label for the new sentence:\", predicted_label)"
      ]
    },
    {
      "cell_type": "markdown",
      "metadata": {
        "id": "1ggpnwtIDVUb"
      },
      "source": [
        "# Evaluation on models"
      ]
    },
    {
      "cell_type": "code",
      "execution_count": 42,
      "metadata": {
        "colab": {
          "base_uri": "https://localhost:8080/",
          "height": 471
        },
        "id": "DOgj28hODQNK",
        "outputId": "7c9e41a0-d230-47ba-896a-e0687d969ed4"
      },
      "outputs": [
        {
          "data": {
            "image/png": "[encoded data removed]",
            "text/plain": [
              "<Figure size 2000x600 with 1 Axes>"
            ]
          },
          "metadata": {},
          "output_type": "display_data"
        }
      ],
      "source": [
        "import matplotlib.pyplot as plt\n",
        "\n",
        "# Sort models based on their accuracy\n",
        "sorted_models = dict(sorted(models_accuracy.items(), key=lambda x: x[1]))\n",
        "\n",
        "x_values = list(sorted_models.keys())\n",
        "y_values = list(sorted_models.values())\n",
        "\n",
        "fig, ax = plt.subplots()\n",
        "bars = ax.bar(x_values, y_values, width=0.6, align='center')\n",
        "ax.set_xmargin(0.1)\n",
        "ax.set_ymargin(0.1)\n",
        "fig.set_size_inches(20, 6)\n",
        "ax.set_ylim(0.6, 1)\n",
        "\n",
        "for bar in bars:\n",
        "    height = bar.get_height()\n",
        "    ax.text(bar.get_x() + bar.get_width() / 2, height, '{:.4f}'.format(height), ha='center', va='bottom')\n",
        "\n",
        "plt.ylabel('Models')\n",
        "plt.xlabel('Accuracy')\n",
        "plt.title('Accuracy of Models')\n",
        "\n",
        "plt.show()"
      ]
    },
    {
      "cell_type": "markdown",
      "metadata": {
        "id": "XIIUd6zlH5An"
      },
      "source": [
        "All accuracy values can be acceptable due to the application of the classification. As it is shown in the chart above, the stochastic gradient descent method has the best accuracy and the naive bayes the least, since it is the simplest method for classification. In my opinion, since sentences in the dataset are not that much complicated, complex models may result in overfit and less accuracy. Simple models are more appropriate for such datasets.\n"
      ]
    },
    {
      "cell_type": "markdown",
      "metadata": {
        "id": "2VwS3sSaJC1i"
      },
      "source": [
        "# Conclusion\n",
        "In this document, nine different methods for sentence classification such as SVM, CNN, LSTM and so on, has been implemented and the accuracy of them has been compared.\n",
        "\n",
        "For the first six algorithms, the TF-IDF method has been used for word embedding, while for the three other methods, One-Hot encoding has been used.There are other possible embedding techniques such as Word2Vec, GloVe, and ParsBert, which may lead to a better result and higher accuracy. However, there was not enough time to implement them."
      ]
    }
  ],
  "metadata": {
    "colab": {
      "provenance": []
    },
    "kernelspec": {
      "display_name": "Python 3",
      "name": "python3"
    },
    "language_info": {
      "name": "python"
    }
  },
  "nbformat": 4,
  "nbformat_minor": 0
}
